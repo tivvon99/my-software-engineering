{
  "nbformat": 4,
  "nbformat_minor": 0,
  "metadata": {
    "colab": {
      "provenance": []
    },
    "kernelspec": {
      "name": "python3",
      "display_name": "Python 3"
    },
    "language_info": {
      "name": "python"
    }
  },
  "cells": [
    {
      "cell_type": "code",
      "source": [
        "\"\"\" R-1.1\n",
        " Write a short Python function, is multiple(n, m), that takes two integer\n",
        "values and returns True if n is a multiple of m, that is, n = mi for some\n",
        "integer i, and False otherwise. \"\"\"\n",
        "\n",
        "def is_multiple(n,m):\n",
        "  if n % m == 0:  # if m is a multiple of n, return true\n",
        "    return True\n",
        "  else:\n",
        "    return False\n",
        "\n",
        "print(is_multiple(6,2))\n",
        "print(is_multiple(5,2))"
      ],
      "metadata": {
        "colab": {
          "base_uri": "https://localhost:8080/"
        },
        "id": "Dg8AFaQ7_q8h",
        "outputId": "06f6da74-f749-43a0-b8d7-5e62a87597a5"
      },
      "execution_count": null,
      "outputs": [
        {
          "output_type": "stream",
          "name": "stdout",
          "text": [
            "True\n",
            "False\n"
          ]
        }
      ]
    },
    {
      "cell_type": "code",
      "source": [
        "\"\"\" R-1.2\n",
        "Write a short Python function, is even(k), that takes an integer value and\n",
        "returns True if k is even, and False otherwise. However, your function\n",
        "cannot use the multiplication, modulo, or division operators. \"\"\"\n",
        "\n",
        "def is_even(k):\n",
        "  # return true if k is even\n",
        "  while k > 0:\n",
        "    k = k - 2\n",
        "  print(bool(k+1))\n",
        "\n",
        "is_even(1000)\n",
        "is_even(999)"
      ],
      "metadata": {
        "colab": {
          "base_uri": "https://localhost:8080/"
        },
        "id": "LWIlSvZSAV8d",
        "outputId": "7660a81a-9b6c-415c-e876-72c20ffc923f"
      },
      "execution_count": null,
      "outputs": [
        {
          "output_type": "stream",
          "name": "stdout",
          "text": [
            "True\n",
            "False\n"
          ]
        }
      ]
    },
    {
      "cell_type": "code",
      "source": [
        "\"\"\" R-1.3 Write a short Python function, minmax(data), that takes a sequence \n",
        "of one or more numbers, and returns the smallest and largest numbers, in the\n",
        "form of a tuple of length two. Do not use the built-in functions min or\n",
        "max in implementing your solution. \"\"\"\n",
        "\n",
        "def minmax(data):\n",
        "  smallest = data[0]\n",
        "\n",
        "  for i in range(len(data)):  # iterate through each list element\n",
        "    if data[i] < smallest:\n",
        "      smallest = data[i]\n",
        "  print(\"The smallest number is: \", smallest)\n",
        "  \n",
        "  largest = data[1]\n",
        "\n",
        "  for i in range(len(data)):\n",
        "    if data[i] > largest:\n",
        "      largest = data[i]\n",
        "  print(\"The largest number is: \", largest)\n",
        "\n",
        "\n",
        "myList = [9, 3, 6, 2, 7, 1]\n",
        "minmax(myList)"
      ],
      "metadata": {
        "colab": {
          "base_uri": "https://localhost:8080/"
        },
        "id": "b5OSZNDmHyQV",
        "outputId": "93fed52b-5ba0-4501-8934-1acb996555da"
      },
      "execution_count": null,
      "outputs": [
        {
          "output_type": "stream",
          "name": "stdout",
          "text": [
            "The smallest number is:  1\n",
            "The largest number is:  9\n"
          ]
        }
      ]
    },
    {
      "cell_type": "code",
      "source": [
        "\"\"\" R-1.4 Write a short Python function that takes a positive integer n and \n",
        "returns the sum of the squares of all the positive integers smaller than n. \"\"\"\n",
        "\n",
        "def all_less_squares(n):\n",
        "  if n > 0:\n",
        "    for i in range(1, n):\n",
        "      print(i**2)\n",
        "\n",
        "a=5\n",
        "all_less_squares(a)\n"
      ],
      "metadata": {
        "colab": {
          "base_uri": "https://localhost:8080/"
        },
        "id": "8i4yPu05P9v9",
        "outputId": "e7cc4328-0bd2-4dcd-98d4-ed67ba3d2b5f"
      },
      "execution_count": null,
      "outputs": [
        {
          "output_type": "stream",
          "name": "stdout",
          "text": [
            "1\n",
            "4\n",
            "9\n",
            "16\n"
          ]
        }
      ]
    },
    {
      "cell_type": "code",
      "source": [
        "\"\"\" R-1.5 Give a single command that computes the sum from Exercise R-1.4, \n",
        "rely\u0002ing on Python’s comprehension syntax and the built-in sum function \"\"\"\n",
        "n = 10\n",
        "\n",
        "sum((x**2 for x in range(1, n)))"
      ],
      "metadata": {
        "colab": {
          "base_uri": "https://localhost:8080/"
        },
        "id": "Cv9NomoCRJW3",
        "outputId": "6612fe0c-99f6-416f-e103-0a39b2d6ffad"
      },
      "execution_count": null,
      "outputs": [
        {
          "output_type": "execute_result",
          "data": {
            "text/plain": [
              "285"
            ]
          },
          "metadata": {},
          "execution_count": 70
        }
      ]
    },
    {
      "cell_type": "code",
      "source": [
        "\"\"\" R-1.6 Write a short Python function that takes a positive integer n and \n",
        "returns the sum of the squares of all the odd positive integers smaller than n.\n",
        "\"\"\"\n",
        "\n",
        "def my_func(n):\n",
        "  return sum((x**2 for x in range(1,n) if x % 2 != 0))\n",
        "\n",
        "my_func(6)"
      ],
      "metadata": {
        "colab": {
          "base_uri": "https://localhost:8080/"
        },
        "id": "fjmh4l5fUizS",
        "outputId": "8e21f414-5fd4-49f5-e3a6-eea195dc28cb"
      },
      "execution_count": null,
      "outputs": [
        {
          "output_type": "execute_result",
          "data": {
            "text/plain": [
              "35"
            ]
          },
          "metadata": {},
          "execution_count": 86
        }
      ]
    },
    {
      "cell_type": "code",
      "source": [
        "\"\"\" R-1.7 Give a single command that computes the sum from Exercise R-1.6,\n",
        "rely\u0002ing on Python’s comprehension syntax and the built-in sum function \"\"\"\n",
        "\n",
        "# done above"
      ],
      "metadata": {
        "id": "1LD3wCnzXR8r"
      },
      "execution_count": null,
      "outputs": []
    },
    {
      "cell_type": "code",
      "source": [
        "\"\"\" \n",
        "R-1.8\n",
        "[0 + k] + \n",
        "\n",
        "if s[-1] then it is also equal to s[n]\n",
        "\n",
        "\n",
        "R-1.9\n",
        "\n",
        "\"\"\"\n",
        "\n",
        "\n",
        "\n"
      ],
      "metadata": {
        "id": "kek6wocqXtCY"
      },
      "execution_count": null,
      "outputs": []
    },
    {
      "cell_type": "code",
      "source": [
        "\"\"\" P-1.29\n",
        "Write a Python program that outputs all possible strings formed by using\n",
        "the characters c , a , t , d , o , and g exactly once.\n",
        "\"\"\"\n",
        "\n"
      ],
      "metadata": {
        "id": "L5ciNGacabwh"
      },
      "execution_count": null,
      "outputs": []
    },
    {
      "cell_type": "code",
      "source": [
        "\"\"\"\n",
        "P-1.30 Write a Python program that can take a positive integer greater than 2 as\n",
        "input and write out the number of times one must repeatedly divide this\n",
        "number by 2 before getting a value less than 2.\n",
        "\"\"\"\n",
        "\n",
        "def divide_func(n):\n",
        "  count = 0\n",
        "\n",
        "  if n > 2:\n",
        "    while n > 2:\n",
        "      n = n/2\n",
        "      count += 1\n",
        "    print(count)\n",
        "  else:\n",
        "    print(\"Number must be more than 2\")\n",
        "\n",
        "divide_func(20)"
      ],
      "metadata": {
        "colab": {
          "base_uri": "https://localhost:8080/"
        },
        "id": "eT28FmMjGdfa",
        "outputId": "ea083538-aa97-4ae8-b949-26d63f645737"
      },
      "execution_count": null,
      "outputs": [
        {
          "output_type": "stream",
          "name": "stdout",
          "text": [
            "4\n"
          ]
        }
      ]
    },
    {
      "cell_type": "code",
      "source": [
        "\"\"\"\n",
        "P-1.31 Write a Python program that can “make change.” Your program should\n",
        "take two numbers as input, one that is a monetary amount charged and the\n",
        "other that is a monetary amount given. It should then return the number\n",
        "of each kind of bill and coin to give back as change for the difference\n",
        "between the amount given and the amount charged. The values assigned\n",
        "to the bills and coins can be based on the monetary system of any current\n",
        "or former government. Try to design your program so that it returns as\n",
        "few bills and coins as possible.\n",
        "\"\"\"\n",
        "\n",
        "# inputs: amt_charged, amt_given\n",
        "\n",
        "# Calculation: given - charged, converted to bills and coins, simplified\n",
        "\n",
        "# output: Number of each kind of bill and coin for change \n",
        "\n",
        "stash = {\n",
        "    \"Hundreds\": 0,\n",
        "    \"Fifties\": 0,\n",
        "    \"Twenties\": 0,\n",
        "    \"Tens\": 0,\n",
        "    \"Ones\": 0\n",
        "}\n",
        "\n",
        "def store(amt_charged, amt_given):\n",
        "  change = amt_given - amt_charged\n",
        "  print(\"Your change is :\", change)\n",
        "\n",
        "  while (change - 100) > 0: # correlate functions to each key value from dictionary\n",
        "    change -= 100\n",
        "    stash['Hundreds'] += 1\n",
        "  while (change - 50) > 0:\n",
        "    change -= 50\n",
        "    stash['Fifties'] += 1\n",
        "  while (change - 20) > 0:\n",
        "    change -= 20\n",
        "    stash[\"Twenties\"] += 1\n",
        "  while (change - 10) > 0:\n",
        "    change -= 10\n",
        "    stash[\"Tens\"] += 1\n",
        "  while (change - 1) > 0.0:\n",
        "    change -= 1\n",
        "    stash[\"Ones\"] += 1\n",
        "\n",
        "  for k,v in stash.items():\n",
        "    print(k, \":\", v)\n",
        "\n",
        "\n",
        "# driver program\n",
        "\n",
        "store(128.00, 350.00)"
      ],
      "metadata": {
        "colab": {
          "base_uri": "https://localhost:8080/"
        },
        "id": "uFcSGznDIMEW",
        "outputId": "92ce5687-c85e-4385-9140-a8b02f500bab"
      },
      "execution_count": null,
      "outputs": [
        {
          "output_type": "stream",
          "name": "stdout",
          "text": [
            "Your change is : 222.0\n",
            "Hundreds : 2\n",
            "Fifties : 0\n",
            "Twenties : 1\n",
            "Tens : 0\n",
            "Ones : 1\n"
          ]
        }
      ]
    },
    {
      "cell_type": "code",
      "source": [
        "\"\"\" P-1.30\n",
        "Write a Python program that can simulate a simple calculator, using the\n",
        "console as the exclusive input and output device. That is, each input to the\n",
        "calculator, be it a number, like 12.34 or 1034, or an operator, like + or =,\n",
        "can be done on a separate line. After each such input, you should output\n",
        "to the Python console what would be displayed on your calculator\n",
        "\"\"\"\n",
        "\n",
        "x = float(input(\"Enter the first operand: \"))\n",
        "op = input(\"Enter an operator: +, - , *, / \")\n",
        "y = float(input(\"Enter the second operand: \"))\n",
        "\n",
        "operators = ['+','-','*', '/'] # trying to use an array to hold operand for O(1) Results\n",
        "\n",
        "result = 0\n",
        "\n",
        "if op == '+':\n",
        "  result = x + y\n",
        "if op == '-':\n",
        "  result = x- y\n",
        "if op == '*':\n",
        "  result = x * y\n",
        "if op == '/':\n",
        "  result = x / y\n",
        "\n",
        "print(\"The answer is: \", result)"
      ],
      "metadata": {
        "colab": {
          "base_uri": "https://localhost:8080/"
        },
        "id": "jdmpa0C8X1sM",
        "outputId": "79a86ff5-6421-4d04-e1ea-aac3dc34ea97"
      },
      "execution_count": null,
      "outputs": [
        {
          "output_type": "stream",
          "name": "stdout",
          "text": [
            "Enter the first operand: 12\n",
            "Enter an operator: +, - , *, / +\n",
            "Enter the second operand: 5.3\n",
            "The answer is:  17.3\n"
          ]
        }
      ]
    },
    {
      "cell_type": "code",
      "source": [
        "\"\"\"\n",
        "P-1.36 Write a Python program that inputs a list of words, separated by white\u0002space, and outputs how many times each word appears in the list. You\n",
        "need not worry about efficiency at this point, however, as this topic is\n",
        "something that will be addressed later in this book.\n",
        "\"\"\"\n",
        "\n",
        "sentence = input(\"Enter a sentence to be split into a group of words.\")\n",
        "\n",
        "word_list = sentence.split(\" \")\n",
        "\n",
        "for i in word_list:\n",
        "  print(i)\n",
        "\n",
        "\n",
        "\n",
        "\n",
        "\n",
        "#inputs: a list of words\n",
        "\n",
        "#calc: separate by white space\n",
        "\n",
        "#outputs: amt of times each word appears in the list"
      ],
      "metadata": {
        "colab": {
          "base_uri": "https://localhost:8080/"
        },
        "id": "8GE6MxaOInln",
        "outputId": "ca603ce4-ede9-4f18-8457-c8e8cb6c8662"
      },
      "execution_count": null,
      "outputs": [
        {
          "output_type": "stream",
          "name": "stdout",
          "text": [
            "Enter a sentence to be split into a group of words.The dog is too fast bro\n",
            "The\n",
            "dog\n",
            "is\n",
            "too\n",
            "fast\n",
            "bro\n"
          ]
        }
      ]
    },
    {
      "cell_type": "code",
      "source": [],
      "metadata": {
        "id": "w2j5wuDvI7lZ"
      },
      "execution_count": null,
      "outputs": []
    }
  ]
}